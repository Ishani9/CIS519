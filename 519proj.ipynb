{
  "cells": [
    {
      "cell_type": "markdown",
      "metadata": {
        "id": "3Ek7PCz14MlO"
      },
      "source": [
        "## Code Reference \n",
        "https://github.com/abhijitjadhav1998/Deepfake_detection_using_deep_learning/tree/master/Model%20Creation"
      ]
    },
    {
      "cell_type": "markdown",
      "source": [
        "# Setup and Imports"
      ],
      "metadata": {
        "id": "mfyJLVCGYmnK"
      }
    },
    {
      "cell_type": "code",
      "execution_count": null,
      "metadata": {
        "colab": {
          "base_uri": "https://localhost:8080/"
        },
        "id": "PmDj3W-KbY9l",
        "outputId": "05355301-e708-4503-fc92-78daa0e82219"
      },
      "outputs": [
        {
          "output_type": "stream",
          "name": "stdout",
          "text": [
            "Mounted at /content/drive\n"
          ]
        }
      ],
      "source": [
        "from google.colab import drive\n",
        "drive.mount('/content/drive') "
      ]
    },
    {
      "cell_type": "code",
      "execution_count": null,
      "metadata": {
        "colab": {
          "base_uri": "https://localhost:8080/"
        },
        "id": "njSjkLved8vG",
        "outputId": "e5daf370-aafe-497a-f15f-47757225eded"
      },
      "outputs": [
        {
          "output_type": "stream",
          "name": "stdout",
          "text": [
            "Collecting face_recognition\n",
            "  Downloading face_recognition-1.3.0-py2.py3-none-any.whl (15 kB)\n",
            "Requirement already satisfied: Pillow in /usr/local/lib/python3.7/dist-packages (from face_recognition) (7.1.2)\n",
            "Collecting face-recognition-models>=0.3.0\n",
            "  Downloading face_recognition_models-0.3.0.tar.gz (100.1 MB)\n",
            "\u001b[K     |████████████████████████████████| 100.1 MB 23 kB/s \n",
            "\u001b[?25hRequirement already satisfied: dlib>=19.7 in /usr/local/lib/python3.7/dist-packages (from face_recognition) (19.18.0)\n",
            "Requirement already satisfied: Click>=6.0 in /usr/local/lib/python3.7/dist-packages (from face_recognition) (7.1.2)\n",
            "Requirement already satisfied: numpy in /usr/local/lib/python3.7/dist-packages (from face_recognition) (1.21.6)\n",
            "Building wheels for collected packages: face-recognition-models\n",
            "  Building wheel for face-recognition-models (setup.py) ... \u001b[?25l\u001b[?25hdone\n",
            "  Created wheel for face-recognition-models: filename=face_recognition_models-0.3.0-py2.py3-none-any.whl size=100566186 sha256=cb48370ab3678025941d11266b29f8d47b4ed8ddb0e9bcfad452d3434c151cd1\n",
            "  Stored in directory: /root/.cache/pip/wheels/d6/81/3c/884bcd5e1c120ff548d57c2ecc9ebf3281c9a6f7c0e7e7947a\n",
            "Successfully built face-recognition-models\n",
            "Installing collected packages: face-recognition-models, face-recognition\n",
            "Successfully installed face-recognition-1.3.0 face-recognition-models-0.3.0\n",
            "Collecting timm\n",
            "  Downloading timm-0.5.4-py3-none-any.whl (431 kB)\n",
            "\u001b[K     |████████████████████████████████| 431 kB 4.2 MB/s \n",
            "\u001b[?25hRequirement already satisfied: torch>=1.4 in /usr/local/lib/python3.7/dist-packages (from timm) (1.11.0+cu113)\n",
            "Requirement already satisfied: torchvision in /usr/local/lib/python3.7/dist-packages (from timm) (0.12.0+cu113)\n",
            "Requirement already satisfied: typing-extensions in /usr/local/lib/python3.7/dist-packages (from torch>=1.4->timm) (4.2.0)\n",
            "Requirement already satisfied: pillow!=8.3.*,>=5.3.0 in /usr/local/lib/python3.7/dist-packages (from torchvision->timm) (7.1.2)\n",
            "Requirement already satisfied: requests in /usr/local/lib/python3.7/dist-packages (from torchvision->timm) (2.23.0)\n",
            "Requirement already satisfied: numpy in /usr/local/lib/python3.7/dist-packages (from torchvision->timm) (1.21.6)\n",
            "Requirement already satisfied: idna<3,>=2.5 in /usr/local/lib/python3.7/dist-packages (from requests->torchvision->timm) (2.10)\n",
            "Requirement already satisfied: urllib3!=1.25.0,!=1.25.1,<1.26,>=1.21.1 in /usr/local/lib/python3.7/dist-packages (from requests->torchvision->timm) (1.24.3)\n",
            "Requirement already satisfied: certifi>=2017.4.17 in /usr/local/lib/python3.7/dist-packages (from requests->torchvision->timm) (2021.10.8)\n",
            "Requirement already satisfied: chardet<4,>=3.0.2 in /usr/local/lib/python3.7/dist-packages (from requests->torchvision->timm) (3.0.4)\n",
            "Installing collected packages: timm\n",
            "Successfully installed timm-0.5.4\n",
            "Collecting git+https://github.com/okankop/vidaug\n",
            "  Cloning https://github.com/okankop/vidaug to /tmp/pip-req-build-duo30fk3\n",
            "  Running command git clone -q https://github.com/okankop/vidaug /tmp/pip-req-build-duo30fk3\n",
            "Building wheels for collected packages: vidaug\n",
            "  Building wheel for vidaug (setup.py) ... \u001b[?25l\u001b[?25hdone\n",
            "  Created wheel for vidaug: filename=vidaug-0.1-py3-none-any.whl size=13034 sha256=5921fed0bba63a8ac41fd34e7fadff89fbff0a6d9fe0361c7f6a4f3274dc15ad\n",
            "  Stored in directory: /tmp/pip-ephem-wheel-cache-dl4z_25s/wheels/9b/d4/8e/257b7d79ad86dbaae5deb117aac58db00c60e697bec84b7c54\n",
            "Successfully built vidaug\n",
            "Installing collected packages: vidaug\n",
            "Successfully installed vidaug-0.1\n"
          ]
        }
      ],
      "source": [
        "!pip3 install face_recognition \n",
        "!pip install timm\n",
        "!sudo pip install git+https://github.com/okankop/vidaug"
      ]
    },
    {
      "cell_type": "code",
      "source": [
        "import glob\n",
        "import torch\n",
        "import torchvision\n",
        "from torchvision import transforms\n",
        "from torch.utils.data import DataLoader\n",
        "from torch.utils.data.dataset import Dataset\n",
        "import os\n",
        "import numpy as np\n",
        "import pandas as pd\n",
        "import cv2\n",
        "import matplotlib.pyplot as plt\n",
        "import face_recognition \n",
        "import json\n",
        "import copy\n",
        "import random\n",
        "import timm\n",
        "from torch import nn\n",
        "import torch.nn.functional as F\n",
        "from torchvision import models\n",
        "from torch.autograd import Variable\n",
        "import time\n",
        "import sys\n",
        "import seaborn as sn\n",
        "from sklearn.metrics import confusion_matrix\n",
        "from skimage.color import rgb2gray\n",
        "%matplotlib inline\n",
        "from scipy import ndimage\n",
        "import math\n",
        "import skimage.io\n",
        "import matplotlib\n",
        "from sklearn.model_selection import train_test_split"
      ],
      "metadata": {
        "id": "p-vQYX6pW7r0"
      },
      "execution_count": null,
      "outputs": []
    },
    {
      "cell_type": "markdown",
      "source": [
        "# Exploratory Analysis"
      ],
      "metadata": {
        "id": "p5Wbzq0ddOve"
      }
    },
    {
      "cell_type": "code",
      "source": [
        "im_size = 112\n",
        "mean = [0.485, 0.456, 0.406]\n",
        "std = [0.229, 0.224, 0.225]\n",
        "video_fil =  glob.glob('/content/drive/My Drive/lost/train_sample_videos/*.mp4')\n",
        "print(len(video_fil))"
      ],
      "metadata": {
        "id": "t1k_zefs1C5w",
        "colab": {
          "base_uri": "https://localhost:8080/"
        },
        "outputId": "171f4988-8751-47de-f42b-60de8d48a6a9"
      },
      "execution_count": null,
      "outputs": [
        {
          "output_type": "stream",
          "name": "stdout",
          "text": [
            "400\n"
          ]
        }
      ]
    },
    {
      "cell_type": "code",
      "source": [
        "def frame_extraction(path):\n",
        "  vid = cv2.VideoCapture(path) \n",
        "  s = 1\n",
        "  while s:\n",
        "      s, im = vid.read()\n",
        "      if s:\n",
        "          yield im\n",
        "\n",
        "train_transforms = transforms.Compose([\n",
        "                                        transforms.ToPILImage(),\n",
        "                                        transforms.Resize((im_size,im_size)),\n",
        "                                        transforms.ToTensor(),\n",
        "                                        transforms.Normalize(mean,std)]) \n",
        "\n",
        "test_transforms = transforms.Compose([\n",
        "                                        transforms.ToPILImage(),\n",
        "                                        transforms.Resize((im_size,im_size)),\n",
        "                                        transforms.ToTensor(),\n",
        "                                        transforms.Normalize(mean,std)])"
      ],
      "metadata": {
        "id": "_ZVBLj-B3a7F"
      },
      "execution_count": null,
      "outputs": []
    },
    {
      "cell_type": "code",
      "execution_count": null,
      "metadata": {
        "colab": {
          "base_uri": "https://localhost:8080/"
        },
        "id": "djeUwxnle2nB",
        "outputId": "17cb7fd4-0cb8-4311-df62-75d82ad8ca1f"
      },
      "outputs": [
        {
          "output_type": "stream",
          "name": "stdout",
          "text": [
            "0\n"
          ]
        }
      ],
      "source": [
        "def video_validation(path, train_transforms):\n",
        "      count = 20\n",
        "      video_path = path\n",
        "      frames = []\n",
        "      a = int(100/count) \n",
        "      first_frame = np.random.randint(0,a)\n",
        "      temp_video = video_path.split('/')[-1]\n",
        "      transform = train_transforms\n",
        "      for i,frame in enumerate(frame_extraction(video_path)):\n",
        "        frames.append(transform(frame))\n",
        "        if(len(frames) == count):\n",
        "          break\n",
        "      frames = torch.stack(frames)\n",
        "      frames = frames[:count]\n",
        "      return frames\n",
        "\n",
        "count = 0;\n",
        "for i in video_fil:\n",
        "  try:\n",
        "    count+=1\n",
        "    video_validation(i,train_transforms)\n",
        "  except:\n",
        "    print(\"Number of video processed: \" , count ,\" Remaining : \" , (len(video_fil) - count))\n",
        "    print(\"Corrupted video is : \" , i)\n",
        "    continue\n",
        "print((len(video_fil) - count)) "
      ]
    },
    {
      "cell_type": "code",
      "execution_count": null,
      "metadata": {
        "id": "2-ApV_fAfmS_"
      },
      "outputs": [],
      "source": [
        "video_files =  glob.glob('/content/drive/My Drive/lost/train_sample_videos/*.mp4')\n",
        "\n",
        "random.shuffle(video_files)\n",
        "random.shuffle(video_files)\n",
        "frame_count = []\n",
        "for video_file in video_files:\n",
        "  cap = cv2.VideoCapture(video_file)\n",
        "  if(int(cap.get(cv2.CAP_PROP_FRAME_COUNT))<100):\n",
        "    video_files.remove(video_file)\n",
        "    continue\n",
        "  frame_count.append(int(cap.get(cv2.CAP_PROP_FRAME_COUNT)))"
      ]
    },
    {
      "cell_type": "code",
      "execution_count": null,
      "metadata": {
        "id": "m-wW3CrFhd7J"
      },
      "outputs": [],
      "source": [
        "# load the video name and labels from csv\n",
        "\n",
        "class video_dataset(Dataset):\n",
        "    def __init__(self,video_names,labels,sequence_length = 60,transform = None):\n",
        "        self.video_names = video_names\n",
        "        self.labels = labels\n",
        "        self.transform = transform\n",
        "        self.count = sequence_length\n",
        "    def __len__(self):\n",
        "        return len(self.video_names)\n",
        "    def __getitem__(self,idx):\n",
        "        video_path = self.video_names[idx]\n",
        "        frames = []\n",
        "        a = int(100/self.count)\n",
        "        first_frame = np.random.randint(0,a)\n",
        "        temp_video = video_path.split('/')[-1]\n",
        "        #print(temp_video)\n",
        "        label = self.labels.iloc[(labels.loc[labels[\"file\"] == temp_video].index.values[0]),1]\n",
        "        if(label == 'FAKE'):\n",
        "          label = 0\n",
        "        if(label == 'REAL'):\n",
        "          label = 1\n",
        "        for i,frame in enumerate(self.frame_extract(video_path)):\n",
        "          frames.append(self.transform(frame))\n",
        "          if(len(frames) == self.count):\n",
        "            break\n",
        "        frames = torch.stack(frames)\n",
        "        frames = frames[:self.count]\n",
        "        #print(\"length:\" , len(frames), \"label\",label)\n",
        "        return frames,label\n",
        "    def frame_extract(self,path):\n",
        "      vidObj = cv2.VideoCapture(path) \n",
        "      success = 1\n",
        "      while success:\n",
        "          success, image = vidObj.read()\n",
        "          if success:\n",
        "              yield image\n",
        "#plot the image\n",
        "def im_plot(tensor):\n",
        "    image = tensor.cpu().numpy().transpose(1,2,0)\n",
        "    b,g,r = cv2.split(image)\n",
        "    image = cv2.merge((r,g,b))\n",
        "    image = image*[0.22803, 0.22145, 0.216989] +  [0.43216, 0.394666, 0.37645]\n",
        "    image = image*255.0\n",
        "    plt.imshow(image.astype(int))\n",
        "    plt.show()"
      ]
    },
    {
      "cell_type": "code",
      "execution_count": null,
      "metadata": {
        "id": "9v1U7bX-hwJj"
      },
      "outputs": [],
      "source": [
        "#count the number of fake and real videos\n",
        "def number_of_real_and_fake_videos(data_list):\n",
        "  header_list = [\"file\",\"label\"]\n",
        "  lab = pd.read_csv('/content/drive/My Drive/lost/train_sample_videos/metadata2.csv',names=header_list)\n",
        "  fake = 0\n",
        "  real = 0\n",
        "  for i in data_list:\n",
        "    temp_video = i.split('/')[-1]\n",
        "    label = lab.iloc[(labels.loc[labels[\"file\"] == temp_video].index.values[0]),1]\n",
        "    if(label == 'FAKE'):\n",
        "      fake+=1\n",
        "    if(label == 'REAL'):\n",
        "      real+=1\n",
        "  return real,fake"
      ]
    },
    {
      "cell_type": "markdown",
      "source": [
        "# Augmentation"
      ],
      "metadata": {
        "id": "JckSrylv1aJb"
      }
    },
    {
      "cell_type": "code",
      "source": [
        "train_sample_metadata = pd.read_json('/content/drive/My Drive/lost/train_sample_videos/metadata.json').T\n",
        "\n",
        "train_sample_metadata.head()\n"
      ],
      "metadata": {
        "id": "jsLb3toZ12-G",
        "colab": {
          "base_uri": "https://localhost:8080/",
          "height": 206
        },
        "outputId": "a6950feb-6d72-47b7-bfbf-eeb871166694"
      },
      "execution_count": null,
      "outputs": [
        {
          "output_type": "execute_result",
          "data": {
            "text/plain": [
              "               label  split        original\n",
              "aagfhgtpmv.mp4  FAKE  train  vudstovrck.mp4\n",
              "aapnvogymq.mp4  FAKE  train  jdubbvfswz.mp4\n",
              "abarnvbtwb.mp4  REAL  train            None\n",
              "abofeumbvv.mp4  FAKE  train  atvmxvwyns.mp4\n",
              "abqwwspghj.mp4  FAKE  train  qzimuostzz.mp4"
            ],
            "text/html": [
              "\n",
              "  <div id=\"df-ab3a77e9-fe09-4ae2-8121-c9b605da6e4b\">\n",
              "    <div class=\"colab-df-container\">\n",
              "      <div>\n",
              "<style scoped>\n",
              "    .dataframe tbody tr th:only-of-type {\n",
              "        vertical-align: middle;\n",
              "    }\n",
              "\n",
              "    .dataframe tbody tr th {\n",
              "        vertical-align: top;\n",
              "    }\n",
              "\n",
              "    .dataframe thead th {\n",
              "        text-align: right;\n",
              "    }\n",
              "</style>\n",
              "<table border=\"1\" class=\"dataframe\">\n",
              "  <thead>\n",
              "    <tr style=\"text-align: right;\">\n",
              "      <th></th>\n",
              "      <th>label</th>\n",
              "      <th>split</th>\n",
              "      <th>original</th>\n",
              "    </tr>\n",
              "  </thead>\n",
              "  <tbody>\n",
              "    <tr>\n",
              "      <th>aagfhgtpmv.mp4</th>\n",
              "      <td>FAKE</td>\n",
              "      <td>train</td>\n",
              "      <td>vudstovrck.mp4</td>\n",
              "    </tr>\n",
              "    <tr>\n",
              "      <th>aapnvogymq.mp4</th>\n",
              "      <td>FAKE</td>\n",
              "      <td>train</td>\n",
              "      <td>jdubbvfswz.mp4</td>\n",
              "    </tr>\n",
              "    <tr>\n",
              "      <th>abarnvbtwb.mp4</th>\n",
              "      <td>REAL</td>\n",
              "      <td>train</td>\n",
              "      <td>None</td>\n",
              "    </tr>\n",
              "    <tr>\n",
              "      <th>abofeumbvv.mp4</th>\n",
              "      <td>FAKE</td>\n",
              "      <td>train</td>\n",
              "      <td>atvmxvwyns.mp4</td>\n",
              "    </tr>\n",
              "    <tr>\n",
              "      <th>abqwwspghj.mp4</th>\n",
              "      <td>FAKE</td>\n",
              "      <td>train</td>\n",
              "      <td>qzimuostzz.mp4</td>\n",
              "    </tr>\n",
              "  </tbody>\n",
              "</table>\n",
              "</div>\n",
              "      <button class=\"colab-df-convert\" onclick=\"convertToInteractive('df-ab3a77e9-fe09-4ae2-8121-c9b605da6e4b')\"\n",
              "              title=\"Convert this dataframe to an interactive table.\"\n",
              "              style=\"display:none;\">\n",
              "        \n",
              "  <svg xmlns=\"http://www.w3.org/2000/svg\" height=\"24px\"viewBox=\"0 0 24 24\"\n",
              "       width=\"24px\">\n",
              "    <path d=\"M0 0h24v24H0V0z\" fill=\"none\"/>\n",
              "    <path d=\"M18.56 5.44l.94 2.06.94-2.06 2.06-.94-2.06-.94-.94-2.06-.94 2.06-2.06.94zm-11 1L8.5 8.5l.94-2.06 2.06-.94-2.06-.94L8.5 2.5l-.94 2.06-2.06.94zm10 10l.94 2.06.94-2.06 2.06-.94-2.06-.94-.94-2.06-.94 2.06-2.06.94z\"/><path d=\"M17.41 7.96l-1.37-1.37c-.4-.4-.92-.59-1.43-.59-.52 0-1.04.2-1.43.59L10.3 9.45l-7.72 7.72c-.78.78-.78 2.05 0 2.83L4 21.41c.39.39.9.59 1.41.59.51 0 1.02-.2 1.41-.59l7.78-7.78 2.81-2.81c.8-.78.8-2.07 0-2.86zM5.41 20L4 18.59l7.72-7.72 1.47 1.35L5.41 20z\"/>\n",
              "  </svg>\n",
              "      </button>\n",
              "      \n",
              "  <style>\n",
              "    .colab-df-container {\n",
              "      display:flex;\n",
              "      flex-wrap:wrap;\n",
              "      gap: 12px;\n",
              "    }\n",
              "\n",
              "    .colab-df-convert {\n",
              "      background-color: #E8F0FE;\n",
              "      border: none;\n",
              "      border-radius: 50%;\n",
              "      cursor: pointer;\n",
              "      display: none;\n",
              "      fill: #1967D2;\n",
              "      height: 32px;\n",
              "      padding: 0 0 0 0;\n",
              "      width: 32px;\n",
              "    }\n",
              "\n",
              "    .colab-df-convert:hover {\n",
              "      background-color: #E2EBFA;\n",
              "      box-shadow: 0px 1px 2px rgba(60, 64, 67, 0.3), 0px 1px 3px 1px rgba(60, 64, 67, 0.15);\n",
              "      fill: #174EA6;\n",
              "    }\n",
              "\n",
              "    [theme=dark] .colab-df-convert {\n",
              "      background-color: #3B4455;\n",
              "      fill: #D2E3FC;\n",
              "    }\n",
              "\n",
              "    [theme=dark] .colab-df-convert:hover {\n",
              "      background-color: #434B5C;\n",
              "      box-shadow: 0px 1px 3px 1px rgba(0, 0, 0, 0.15);\n",
              "      filter: drop-shadow(0px 1px 2px rgba(0, 0, 0, 0.3));\n",
              "      fill: #FFFFFF;\n",
              "    }\n",
              "  </style>\n",
              "\n",
              "      <script>\n",
              "        const buttonEl =\n",
              "          document.querySelector('#df-ab3a77e9-fe09-4ae2-8121-c9b605da6e4b button.colab-df-convert');\n",
              "        buttonEl.style.display =\n",
              "          google.colab.kernel.accessAllowed ? 'block' : 'none';\n",
              "\n",
              "        async function convertToInteractive(key) {\n",
              "          const element = document.querySelector('#df-ab3a77e9-fe09-4ae2-8121-c9b605da6e4b');\n",
              "          const dataTable =\n",
              "            await google.colab.kernel.invokeFunction('convertToInteractive',\n",
              "                                                     [key], {});\n",
              "          if (!dataTable) return;\n",
              "\n",
              "          const docLinkHtml = 'Like what you see? Visit the ' +\n",
              "            '<a target=\"_blank\" href=https://colab.research.google.com/notebooks/data_table.ipynb>data table notebook</a>'\n",
              "            + ' to learn more about interactive tables.';\n",
              "          element.innerHTML = '';\n",
              "          dataTable['output_type'] = 'display_data';\n",
              "          await google.colab.output.renderOutput(dataTable, element);\n",
              "          const docLink = document.createElement('div');\n",
              "          docLink.innerHTML = docLinkHtml;\n",
              "          element.appendChild(docLink);\n",
              "        }\n",
              "      </script>\n",
              "    </div>\n",
              "  </div>\n",
              "  "
            ]
          },
          "metadata": {},
          "execution_count": 11
        }
      ]
    },
    {
      "cell_type": "code",
      "source": [
        "VIDEO_STREAM = \"/content/drive/My Drive/lost/test_videos/ytddugrwph.mp4\"\n",
        "\n",
        "\n",
        "frames_array = []\n",
        "\n",
        "vidcap = cv2.VideoCapture(VIDEO_STREAM)\n",
        "def getFrame(sec):\n",
        "   \n",
        "    vidcap.set(cv2.CAP_PROP_POS_MSEC,sec*10000)\n",
        "    hasFrames, image = vidcap.read()\n",
        "    if hasFrames:\n",
        "        cv2.imwrite(\"image\"+str(count)+\".jpg\", image) # save frame as JPG file\n",
        "        frames_array.append(image)\n",
        "    return frames_array, hasFrames\n",
        "\n",
        "sec = 0\n",
        "frameRate = 0.1 #//it will capture image in each 0.5 second\n",
        "count=1\n",
        "success=True\n",
        "\n",
        "while success:\n",
        "    count = count + 1\n",
        "    sec = sec + frameRate\n",
        "    sec = round(sec, 2)\n",
        "    im_array ,success = getFrame(sec)\n",
        "   "
      ],
      "metadata": {
        "id": "RVQ_1A1l139l"
      },
      "execution_count": null,
      "outputs": []
    },
    {
      "cell_type": "code",
      "source": [
        "from PIL import Image\n",
        "from matplotlib import cm\n",
        "\n",
        "pil_im = []\n",
        "for i in range(0, len(im_array)):\n",
        "  im = Image.fromarray(im_array[i],'RGB')\n",
        "  pil_im.append(im)\n",
        "  print(im)"
      ],
      "metadata": {
        "id": "lhTGD4WC18l1",
        "colab": {
          "base_uri": "https://localhost:8080/"
        },
        "outputId": "64cce071-fba2-4c56-934b-aec96258f585"
      },
      "execution_count": null,
      "outputs": [
        {
          "output_type": "stream",
          "name": "stdout",
          "text": [
            "<PIL.Image.Image image mode=RGB size=1920x1080 at 0x7FA083A06C90>\n",
            "<PIL.Image.Image image mode=RGB size=1920x1080 at 0x7F9F57299410>\n",
            "<PIL.Image.Image image mode=RGB size=1920x1080 at 0x7F9F5A3544D0>\n",
            "<PIL.Image.Image image mode=RGB size=1920x1080 at 0x7F9F57299C10>\n",
            "<PIL.Image.Image image mode=RGB size=1920x1080 at 0x7F9F57299E90>\n",
            "<PIL.Image.Image image mode=RGB size=1920x1080 at 0x7F9F57299F10>\n",
            "<PIL.Image.Image image mode=RGB size=1920x1080 at 0x7F9F57299D10>\n",
            "<PIL.Image.Image image mode=RGB size=1920x1080 at 0x7F9F57287390>\n",
            "<PIL.Image.Image image mode=RGB size=1920x1080 at 0x7F9F5A2CADD0>\n"
          ]
        }
      ]
    },
    {
      "cell_type": "code",
      "source": [
        "from vidaug import augmentors as va\n",
        "\n",
        "sometimes = lambda aug: va.Sometimes(0.5, aug) # Used to apply augmentor with 50% probability\n",
        "seq = va.Sequential([\n",
        "    # va.RandomCrop(size=(240, 180)), # randomly crop video with a size of (240 x 180)\n",
        "    va.RandomRotate(degrees=30), # randomly rotates the video with a degree randomly choosen from [-10, 10]  \n",
        "    sometimes(va.VerticalFlip()), # horizontally flip the video with 50% probability\n",
        "    sometimes(va.InvertColor())\n",
        "])\n",
        "video_aug = seq(pil_im)\n",
        "print(video_aug)"
      ],
      "metadata": {
        "id": "QB-VX4N71_bH",
        "colab": {
          "base_uri": "https://localhost:8080/"
        },
        "outputId": "d5d4c0ce-5c3c-4f18-c9a6-fc0bb681c5b8"
      },
      "execution_count": null,
      "outputs": [
        {
          "output_type": "stream",
          "name": "stdout",
          "text": [
            "[<PIL.Image.Image image mode=RGB size=1920x1080 at 0x7F9F572A1A10>, <PIL.Image.Image image mode=RGB size=1920x1080 at 0x7F9F4F2B73D0>, <PIL.Image.Image image mode=RGB size=1920x1080 at 0x7F9F4F2B7450>, <PIL.Image.Image image mode=RGB size=1920x1080 at 0x7F9F4F2B74D0>, <PIL.Image.Image image mode=RGB size=1920x1080 at 0x7F9F4F2B7550>, <PIL.Image.Image image mode=RGB size=1920x1080 at 0x7F9F4F2B7610>, <PIL.Image.Image image mode=RGB size=1920x1080 at 0x7F9F4F2B7690>, <PIL.Image.Image image mode=RGB size=1920x1080 at 0x7F9F4F2B7710>, <PIL.Image.Image image mode=RGB size=1920x1080 at 0x7F9F4F2B7790>]\n"
          ]
        }
      ]
    },
    {
      "cell_type": "code",
      "source": [
        "for i in range(len(video_aug)):\n",
        "  print(video_aug[i])"
      ],
      "metadata": {
        "id": "x_vkwrwj2Dmj",
        "colab": {
          "base_uri": "https://localhost:8080/"
        },
        "outputId": "4f134a8f-836e-43f8-b704-ce7c0f1ee82e"
      },
      "execution_count": null,
      "outputs": [
        {
          "output_type": "stream",
          "name": "stdout",
          "text": [
            "<PIL.Image.Image image mode=RGB size=1920x1080 at 0x7F9F572A1A10>\n",
            "<PIL.Image.Image image mode=RGB size=1920x1080 at 0x7F9F4F2B73D0>\n",
            "<PIL.Image.Image image mode=RGB size=1920x1080 at 0x7F9F4F2B7450>\n",
            "<PIL.Image.Image image mode=RGB size=1920x1080 at 0x7F9F4F2B74D0>\n",
            "<PIL.Image.Image image mode=RGB size=1920x1080 at 0x7F9F4F2B7550>\n",
            "<PIL.Image.Image image mode=RGB size=1920x1080 at 0x7F9F4F2B7610>\n",
            "<PIL.Image.Image image mode=RGB size=1920x1080 at 0x7F9F4F2B7690>\n",
            "<PIL.Image.Image image mode=RGB size=1920x1080 at 0x7F9F4F2B7710>\n",
            "<PIL.Image.Image image mode=RGB size=1920x1080 at 0x7F9F4F2B7790>\n"
          ]
        }
      ]
    },
    {
      "cell_type": "markdown",
      "source": [
        "# Data Loader"
      ],
      "metadata": {
        "id": "5GJoyG63dygu"
      }
    },
    {
      "cell_type": "code",
      "execution_count": null,
      "metadata": {
        "colab": {
          "base_uri": "https://localhost:8080/",
          "height": 444
        },
        "id": "JyumMDYFh0HY",
        "outputId": "4605be69-451d-4023-b31c-9e7f38846570"
      },
      "outputs": [
        {
          "output_type": "stream",
          "name": "stdout",
          "text": [
            "Number of videos in train set:  320\n",
            "Number of videos in test set:  80\n",
            "Train set analysis :  \n",
            "Real videos :  61 , Fake videos :  259\n",
            "Test set analysis :  \n",
            "Real videos :  16 , Fake videos :  64\n"
          ]
        },
        {
          "output_type": "stream",
          "name": "stderr",
          "text": [
            "/usr/local/lib/python3.7/dist-packages/torch/utils/data/dataloader.py:490: UserWarning: This DataLoader will create 4 worker processes in total. Our suggested max number of worker in current system is 2, which is smaller than what this DataLoader is going to create. Please be aware that excessive worker creation might get DataLoader running slow or even freeze, lower the worker number to avoid potential slowness/freeze if necessary.\n",
            "  cpuset_checked))\n",
            "Clipping input data to the valid range for imshow with RGB data ([0..1] for floats or [0..255] for integers).\n"
          ]
        },
        {
          "output_type": "display_data",
          "data": {
            "text/plain": [
              "<Figure size 432x288 with 1 Axes>"
            ],
            "image/png": "[encoded data removed]"
          },
          "metadata": {
            "needs_background": "light"
          }
        }
      ],
      "source": [
        "# load the labels and video in data loader\n",
        "\n",
        "header_list = [\"file\",\"label\"]\n",
        "labels = pd.read_csv('/content/drive/My Drive/lost/train_sample_videos/metadata2.csv',names=header_list)\n",
        "\n",
        "train_set = video_files[:int(0.8*len(video_files))]\n",
        "valid_set = video_files[int(0.8*len(video_files)):]\n",
        "print(\"Number of videos in train set: \" , len(train_set))\n",
        "print(\"Number of videos in test set: \" , len(valid_set))\n",
        "\n",
        "print(\"Train set analysis : \", \"\\nReal videos : \",number_of_real_and_fake_videos(train_set)[0],\", Fake videos : \",number_of_real_and_fake_videos(train_set)[1])\n",
        "print(\"Test set analysis : \", \"\\nReal videos : \",number_of_real_and_fake_videos(valid_set)[0],\", Fake videos : \",number_of_real_and_fake_videos(valid_set)[1])\n",
        "\n",
        "train_data = video_dataset(train_set,labels,sequence_length = 10,transform = train_transforms)\n",
        "val_data = video_dataset(valid_set,labels,sequence_length = 10,transform = train_transforms)\n",
        "train_loader = DataLoader(train_data,batch_size = 4,shuffle = True,num_workers = 4)\n",
        "valid_loader = DataLoader(val_data,batch_size = 4,shuffle = True,num_workers = 4)\n",
        "image,label = train_data[0]\n",
        "im_plot(image[0,:,:,:])"
      ]
    },
    {
      "cell_type": "markdown",
      "source": [
        "# Auxiliary functions"
      ],
      "metadata": {
        "id": "dyynsaWdgqGn"
      }
    },
    {
      "cell_type": "code",
      "source": [
        "class AverageMeter(object):\n",
        "    def __init__(self):\n",
        "        self.reset()\n",
        "    def reset(self):\n",
        "        self.val = 0\n",
        "        self.avg = 0\n",
        "        self.sum = 0\n",
        "        self.count = 0\n",
        "\n",
        "    def update(self, val, n=1):\n",
        "        self.val = val\n",
        "        self.sum += val * n\n",
        "        self.count += n\n",
        "        self.avg = self.sum / self.count\n",
        "        \n",
        "def calculate_accuracy(outputs, targets):\n",
        "    _, prediction = outputs.topk(1, 1, True)\n",
        "    prediction = prediction.t()\n",
        "    correct = prediction.eq(targets.view(1, -1))\n",
        "    n_correct_elems = correct.float().sum().item()\n",
        "    return 100* n_correct_elems / targets.size(0)"
      ],
      "metadata": {
        "id": "Y2XYZic8kzx2"
      },
      "execution_count": null,
      "outputs": []
    },
    {
      "cell_type": "markdown",
      "source": [
        "# Plot functions"
      ],
      "metadata": {
        "id": "QzqSs2zdg6Su"
      }
    },
    {
      "cell_type": "code",
      "execution_count": null,
      "metadata": {
        "id": "MRP2AUjVkmAR"
      },
      "outputs": [],
      "source": [
        "#Output confusion matrix\n",
        "def print_confusion_matrix(y_true, y_pred):\n",
        "\n",
        "    confusn_matrix = confusion_matrix(y_true, y_pred)\n",
        "    TP = confusn_matrix[0][0]\n",
        "    FN = confusn_matrix[1][0]\n",
        "    FP = confusn_matrix[0][1]\n",
        "    TN = confusn_matrix[1][1]\n",
        "\n",
        "    df_confusn_matrix = pd.DataFrame(confusn_matrix, range(2), range(2))\n",
        "    sn.set(font_scale = 1.35) # for label size\n",
        "    sn.heatmap(df_confusn_matrix, annot=True, annot_kws={\"size\": 16}) # font size\n",
        "    plt.ylabel('Actual label', size = 18)\n",
        "    plt.xlabel('Predicted label', size = 18)\n",
        "    plt.xticks(np.arange(2), ['Fake', 'Real'], size = 14)\n",
        "    plt.yticks(np.arange(2), ['Fake', 'Real'], size = 14)\n",
        "    plt.ylim([2, 0])\n",
        "    plt.show()\n",
        "\n",
        "    accuracy = (TP + TN) / (TP + TN + FP + FN)\n",
        "    precision = TP / (TP + FP)\n",
        "    recall = TP / (TP + TN)\n",
        "    f1_score = (2 * precision * recall) / (precision + recall)\n",
        "  "
      ]
    },
    {
      "cell_type": "code",
      "execution_count": null,
      "metadata": {
        "id": "hunWDA_xwj5Q"
      },
      "outputs": [],
      "source": [
        "def plot_loss(train_loss,test_loss, epochs):\n",
        "  loss_train = train_loss\n",
        "  loss_val = test_loss\n",
        "  print(epochs)\n",
        "  epochs = range(1, num_epochs+1)\n",
        "  plt.plot(epochs, loss_train, 'g', label='Training loss')\n",
        "  plt.plot(epochs, loss_val, 'b', label='validation loss')\n",
        "  plt.title('Training and Validation loss')\n",
        "  plt.xlabel('Epochs')\n",
        "  plt.ylabel('Loss')\n",
        "  plt.legend()\n",
        "  plt.show()"
      ]
    },
    {
      "cell_type": "code",
      "source": [
        "def plot_accuracy(train_accuracy, test_accuracy, n_epochs):\n",
        "  train_acc = train_accuracy\n",
        "  val_acc = test_accuracy\n",
        "  epochs = range(1, n_epochs + 1)\n",
        "  plt.plot(epochs, train_acc, 'g', label= 'Training accuracy')\n",
        "  plt.plot(epochs, val_acc, 'b', label= 'validation accuracy')\n",
        "  plt.title('Training and Validation accuracy')\n",
        "  plt.xlabel('Epochs')\n",
        "  plt.ylabel('Accuracy')\n",
        "  plt.legend()\n",
        "  plt.show()"
      ],
      "metadata": {
        "id": "VynP7wfQhyXR"
      },
      "execution_count": null,
      "outputs": []
    },
    {
      "cell_type": "markdown",
      "source": [
        "# Models"
      ],
      "metadata": {
        "id": "Lm6L-7MKj3Jf"
      }
    },
    {
      "cell_type": "markdown",
      "source": [
        "## 1. Baseline Model"
      ],
      "metadata": {
        "id": "No0DArKEDJrY"
      }
    },
    {
      "cell_type": "code",
      "execution_count": null,
      "metadata": {
        "id": "mrOEI2Ffj60l"
      },
      "outputs": [],
      "source": [
        "class Model(nn.Module):\n",
        "    def __init__(self):\n",
        "        super(Model, self).__init__()\n",
        "        '''\n",
        "        model = models.resnext50_32x4d(pretrained = True) #Residual Network CNN\n",
        "        self.model = nn.Sequential(*list(model.children())[:-2])\n",
        "        self.lstm = nn.LSTM(latent_dim,hidden_dim, lstm_layers,  bidirectional)\n",
        "        self.relu = nn.LeakyReLU()\n",
        "        self.dp = nn.Dropout(0.4)\n",
        "        self.linear1 = nn.Linear(2048,num_classes)\n",
        "        self.avgpool = nn.AdaptiveAvgPool2d(1)\n",
        "        '''\n",
        "\n",
        "        self.conv1 = nn.Conv2d(3,32, kernel_size=(3, 3))\n",
        "        self.max1 = nn.MaxPool2d(kernel_size=(2, 2))\n",
        "        self.conv3 = nn.Conv2d(32,64, kernel_size=(3, 3))\n",
        "        self.max2 = nn.MaxPool2d(kernel_size=(2, 2))\n",
        "        self.conv5 = nn.Conv2d(64,128, kernel_size=(3, 3))\n",
        "        self.max3 = nn.MaxPool2d(kernel_size=(2, 2))\n",
        "\n",
        "        # 2x dense layers to learn from features extracted from convolutions\n",
        "        self.l1 = nn.Linear(18432,64)\n",
        "        self.l2 = nn.Linear(64,2)\n",
        "        # output layer of 1 neuron with sigmoid activation for binary classification\n",
        "\n",
        "        self.dropout1 = nn.Dropout(0.25)\n",
        "        self.dropout2 = nn.Dropout(0.35)\n",
        "        self.batch_norm1 = nn.BatchNorm2d(32)\n",
        "        self.batch_norm2 = nn.BatchNorm2d(64)\n",
        "\n",
        "    def forward(self, x):\n",
        "                \n",
        "        batch_size,seq_length, c, h, w = x.shape\n",
        "        x = x.view(batch_size * seq_length, c, h, w)\n",
        "        x = F.relu(self.conv1(x))\n",
        "        x=self.batch_norm1(x)\n",
        "        x=self.dropout1(x)\n",
        "        x = self.max1(x)\n",
        "        x = F.relu(self.conv3(x))\n",
        "        x=self.batch_norm2(x)\n",
        "        x=self.dropout2(x)\n",
        "        x = self.max2(x)\n",
        "        x = F.relu(self.conv5(x))\n",
        "        x = self.max3(x)\n",
        "        \n",
        "        x = x.view(x.shape[0],-1)\n",
        "        x = F.relu(self.l1(x))\n",
        "        x = F.relu(self.l2(x))\n",
        "        output = F.softmax(x, dim=1)\n",
        "\n",
        "        return output\n"
      ]
    },
    {
      "cell_type": "code",
      "execution_count": null,
      "metadata": {
        "id": "rgjfUgDHkA8_"
      },
      "outputs": [],
      "source": [
        "model = Model().cuda()\n",
        "a = model(torch.from_numpy(np.empty((1,20,3,112,112))).type(torch.cuda.FloatTensor))"
      ]
    },
    {
      "cell_type": "code",
      "execution_count": null,
      "metadata": {
        "id": "rTZfJRTzkEP7"
      },
      "outputs": [],
      "source": [
        "def train_epoch(epoch, num_epochs, data_loader, model, criterion, optimizer):\n",
        "    print(\"inside train_epoch\")\n",
        "    model.train()\n",
        "    losses = AverageMeter()\n",
        "    accuracies = AverageMeter()\n",
        "    t = []\n",
        "    for i, (inputs, targets) in enumerate(data_loader):\n",
        "       \n",
        "        if torch.cuda.is_available():\n",
        "            targets = targets.type(torch.cuda.LongTensor)\n",
        "            inputs = inputs.cuda()\n",
        "        \n",
        "        bs,seq_length, c, h, w = inputs.shape\n",
        "        #print(batch_size,seq_length, c, h, w)\n",
        "        outputs = model(inputs)\n",
        "        results = torch.zeros((bs,2)).cuda()\n",
        "        c = 0 # c = -1\n",
        "        \n",
        "        for j in range(0,bs*seq_length,10):\n",
        "          \n",
        "          #print(outputs[i:i+10],len(outputs[i:i+10]))\n",
        "          results[c] = torch.mean(outputs[j:j+10],dim=0)\n",
        "          c = c+1 \n",
        "    \n",
        "        loss  = criterion(results,targets.type(torch.cuda.LongTensor))\n",
        "        \n",
        "        acc = calculate_accuracy(results, targets.type(torch.cuda.LongTensor))\n",
        "        losses.update(loss.item(), inputs.size(0))\n",
        "        accuracies.update(acc, inputs.size(0))\n",
        "        optimizer.zero_grad()\n",
        "        loss.backward()\n",
        "        optimizer.step()\n",
        "        sys.stdout.write( \n",
        "                \"\\r[Epoch %d/%d] [Batch %d / %d] [Loss: %f, Acc: %.2f%%]\"\n",
        "                % (\n",
        "                    epoch,\n",
        "                    num_epochs,\n",
        "                    i,\n",
        "                    len(data_loader),\n",
        "                    losses.avg,\n",
        "                    accuracies.avg))\n",
        "    torch.save(model.state_dict(),'/content/checkpoint.pt')\n",
        "    return losses.avg,accuracies.avg\n",
        "def test(epoch,model, data_loader ,criterion):\n",
        "    print('Testing')\n",
        "    model.eval()\n",
        "    losses = AverageMeter()\n",
        "    accuracies = AverageMeter()\n",
        "    pred = []\n",
        "    true = []\n",
        "    count = 0\n",
        "    with torch.no_grad():\n",
        "        for i, (inputs, targets) in enumerate(data_loader):\n",
        "            if torch.cuda.is_available():\n",
        "                targets = targets.cuda().type(torch.cuda.FloatTensor)\n",
        "                inputs = inputs.cuda()\n",
        "            outputs = model(inputs)\n",
        "\n",
        "            batch_size,seq_length, c, h, w = inputs.shape\n",
        "            #print(batch_size,seq_length, c, h, w)\n",
        "            outputs = model(inputs)\n",
        "            results = torch.zeros((batch_size,2)).cuda()\n",
        "            c = 0 # c = -1\n",
        "\n",
        "            for j in range(0,batch_size*seq_length,10):\n",
        "              results[c] = torch.mean(outputs[j:j+10],dim=0)\n",
        "              c = c+1\n",
        "\n",
        "            loss = torch.mean(criterion(results, targets.type(torch.cuda.LongTensor)))\n",
        "            acc = calculate_accuracy(results,targets.type(torch.cuda.LongTensor))\n",
        "        \n",
        "            # _,p = torch.max(results,1)\n",
        "            _,p = torch.max(outputs,1)  \n",
        "            true += (targets.type(torch.cuda.LongTensor)).detach().cpu().numpy().reshape(len(targets)).tolist()\n",
        "            pred += p.detach().cpu().numpy().reshape(len(p)).tolist()\n",
        "            losses.update(loss.item(), inputs.size(0))\n",
        "            accuracies.update(acc, inputs.size(0))\n",
        "            sys.stdout.write(\n",
        "                    \"\\r[Batch %d / %d]  [Loss: %f, Acc: %.2f%%]\"\n",
        "                    % (\n",
        "                        i,\n",
        "                        len(data_loader),\n",
        "                        losses.avg,\n",
        "                        accuracies.avg\n",
        "                        )\n",
        "                    )\n",
        "        print('\\nAccuracy {}'.format(accuracies.avg))\n",
        "    return true,pred,losses.avg,accuracies.avg\n",
        "\n",
        "class AverageMeter(object):\n",
        "    \"\"\"Computes and stores the average and current value\"\"\"\n",
        "    def __init__(self):\n",
        "        self.reset()\n",
        "    def reset(self):\n",
        "        self.val = 0\n",
        "        self.avg = 0\n",
        "        self.sum = 0\n",
        "        self.count = 0\n",
        "\n",
        "    def update(self, val, n=1):\n",
        "        self.val = val\n",
        "        self.sum += val * n\n",
        "        self.count += n\n",
        "        self.avg = self.sum / self.count\n",
        "def calculate_accuracy(outputs, targets):\n",
        "    batch_size = targets.size(0)\n",
        "\n",
        "    _, pred = outputs.topk(1, 1, True)\n",
        "    pred = pred.t()\n",
        "    correct = pred.eq(targets.view(1, -1))\n",
        "    n_correct_elems = correct.float().sum().item()\n",
        "    return 100* n_correct_elems / batch_size"
      ]
    },
    {
      "cell_type": "code",
      "source": [
        "#learning rate\n",
        "lr = 0.005\n",
        "#number of epochs \n",
        "num_epochs = 20\n",
        "\n",
        "optimizer = torch.optim.Adam(model.parameters(), lr= lr,weight_decay = 1e-5)\n",
        "\n",
        "criterion = nn.CrossEntropyLoss().cuda()\n",
        "train_loss =[]\n",
        "train_acc = []\n",
        "test_loss = []\n",
        "test_acc = []\n",
        "for epoch in range(1,num_epochs+1):\n",
        "    loss1, acc1 = train_epoch(epoch,num_epochs,train_loader,model,criterion,optimizer)\n",
        "    train_loss.append(loss1)\n",
        "    train_acc.append(acc1)\n",
        "    true, pred, loss2, acc2 = test(epoch,model,valid_loader,criterion)\n",
        "    test_loss.append(loss2)\n",
        "    test_acc.append(acc2)\n"
      ],
      "metadata": {
        "id": "xqUrrrzPPAGT"
      },
      "execution_count": null,
      "outputs": []
    },
    {
      "cell_type": "code",
      "execution_count": null,
      "metadata": {
        "colab": {
          "base_uri": "https://localhost:8080/",
          "height": 573
        },
        "id": "XqsYnK_wkspK",
        "outputId": "62a9e8a3-4863-44c6-ec80-3130c0ad4eeb"
      },
      "outputs": [
        {
          "output_type": "display_data",
          "data": {
            "text/plain": [
              "<Figure size 432x288 with 1 Axes>"
            ],
            "image/png": "[encoded data removed]"
          },
          "metadata": {
            "needs_background": "light"
          }
        },
        {
          "output_type": "display_data",
          "data": {
            "text/plain": [
              "<Figure size 432x288 with 1 Axes>"
            ],
            "image/png": "[encoded data removed]"
          },
          "metadata": {
            "needs_background": "light"
          }
        }
      ],
      "source": [
        "plot_loss(train_loss, test_loss, len(train_loss))\n",
        "plot_accuracy(train_acc, test_acc,len(train_acc))"
      ]
    },
    {
      "cell_type": "markdown",
      "source": [
        "## 2. Inception Net"
      ],
      "metadata": {
        "id": "IsGGhMgKCy84"
      }
    },
    {
      "cell_type": "code",
      "source": [
        "from torchvision import models"
      ],
      "metadata": {
        "id": "qYP9Qa8ESmJf"
      },
      "execution_count": null,
      "outputs": []
    },
    {
      "cell_type": "code",
      "source": [
        "class Inception_Model(nn.Module):\n",
        "    def __init__(self, num_classes,latent_dim= 2048, lstm_layers=1 , hidden_dim = 2048, bidirectional = False):\n",
        "        super(Inception_Model, self).__init__()\n",
        "        model = models.inception(pretrained=True)\n",
        "\n",
        "        self.model = nn.Sequential(*list(model.children())[:-2])\n",
        "        self.dropout = nn.Dropout(0.3)\n",
        "        self.fc1 = nn.Linear(2048,256)\n",
        "        self.fc2 = nn.Linear(256,num_classes)\n",
        "        self.avgpool = nn.AdaptiveAvgPool2d(1)\n",
        "        self.lstm = nn.LSTM(latent_dim, hidden_dim, lstm_layers, bidirectional)\n",
        "        self.relu = nn.LeakyReLU()\n",
        "        \n",
        "    def forward(self, t):\n",
        "        batch_size,seq_length, c, h, w = t.shape \n",
        "        t = t.view(batch_size * seq_length, c, h, w)\n",
        "        forw = self.model(t)\n",
        "        t = self.avgpool(forw)\n",
        "        t = t.view(batch_size,seq_length,2048)\n",
        "        t_lstm, _ = self.lstm(t, None)\n",
        "        t = self.dropout(self.relu(self.fc1(torch.mean(t_lstm, dim = 1))))\n",
        "        t = self.fc2(t)\n",
        "        return forw, t"
      ],
      "metadata": {
        "id": "kSuWOB93KJJq"
      },
      "execution_count": null,
      "outputs": []
    },
    {
      "cell_type": "code",
      "source": [
        "model2 = Inception_Model(2).cuda()"
      ],
      "metadata": {
        "id": "IKoPTgej3nY9"
      },
      "execution_count": null,
      "outputs": []
    },
    {
      "cell_type": "code",
      "source": [
        "def train_epoch(epoch, num_epochs, data_loader, model, criterion, optimizer):\n",
        "    model2.train()\n",
        "    losses = AverageMeter()\n",
        "    accuracies = AverageMeter()\n",
        "    t = []\n",
        "    for i, (inputs, targets) in enumerate(data_loader):\n",
        "        if torch.cuda.is_available():\n",
        "            targets = targets.type(torch.cuda.LongTensor)\n",
        "            inputs = inputs.cuda()\n",
        "        _, outputs = model2(inputs)\n",
        "        loss  = criterion(outputs,targets.type(torch.cuda.LongTensor))\n",
        "        acc = calculate_accuracy(outputs, targets.type(torch.cuda.LongTensor))\n",
        "        losses.update(loss.item(), inputs.size(0))\n",
        "        accuracies.update(acc, inputs.size(0))\n",
        "        optimizer.zero_grad()\n",
        "        loss.backward()\n",
        "        optimizer.step()\n",
        "        sys.stdout.write(\n",
        "                \"\\r[Epoch %d/%d] [Batch %d / %d] [Loss: %f, Acc: %.2f%%]\"\n",
        "                % (\n",
        "                    epoch,\n",
        "                    num_epochs,\n",
        "                    i,\n",
        "                    len(data_loader),\n",
        "                    losses.avg,\n",
        "                    accuracies.avg))\n",
        "    torch.save(model.state_dict(),'/content/checkpoint.pt')\n",
        "    return losses.avg,accuracies.avg\n",
        "def test(epoch,model, data_loader ,criterion):\n",
        "    print('Testing')\n",
        "    model2.eval()\n",
        "    losses = AverageMeter()\n",
        "    accuracies = AverageMeter()\n",
        "    pred = []\n",
        "    true = []\n",
        "    count = 0\n",
        "    with torch.no_grad():\n",
        "        for i, (inputs, targets) in enumerate(data_loader):\n",
        "            if torch.cuda.is_available():\n",
        "                targets = targets.cuda().type(torch.cuda.FloatTensor)\n",
        "                inputs = inputs.cuda()\n",
        "            _,outputs = model2(inputs)\n",
        "            loss = torch.mean(criterion(outputs, targets.type(torch.cuda.LongTensor)))\n",
        "            acc = calculate_accuracy(outputs,targets.type(torch.cuda.LongTensor))\n",
        "            _,p = torch.max(outputs,1) \n",
        "            true += (targets.type(torch.cuda.LongTensor)).detach().cpu().numpy().reshape(len(targets)).tolist()\n",
        "            pred += p.detach().cpu().numpy().reshape(len(p)).tolist()\n",
        "            losses.update(loss.item(), inputs.size(0))\n",
        "            accuracies.update(acc, inputs.size(0))\n",
        "            sys.stdout.write(\n",
        "                    \"\\r[Batch %d / %d]  [Loss: %f, Acc: %.2f%%]\"\n",
        "                    % (\n",
        "                        i,\n",
        "                        len(data_loader),\n",
        "                        losses.avg,\n",
        "                        accuracies.avg\n",
        "                        )\n",
        "                    )\n",
        "        print('\\nAccuracy {}'.format(accuracies.avg))\n",
        "    return true,pred,losses.avg,accuracies.avg\n"
      ],
      "metadata": {
        "id": "yZlb_6JUKbSk"
      },
      "execution_count": null,
      "outputs": []
    },
    {
      "cell_type": "code",
      "source": [
        "num_epochs = 10\n",
        "lr = 0.05\n",
        "\n",
        "optimizer = torch.optim.Adam(model2.parameters(), lr= lr,weight_decay = 1e-5)\n",
        "criterion = nn.CrossEntropyLoss().cuda()\n",
        "\n",
        "train_loss =[]\n",
        "train_acc = []\n",
        "test_loss = []\n",
        "test_acc = []\n",
        "for epoch in range(1,num_epochs+1):\n",
        "    loss1, acc1 = train_epoch(epoch,num_epochs,train_loader,model,criterion,optimizer)\n",
        "    train_loss.append(loss1)\n",
        "    train_acc.append(acc1)\n",
        "    true, pred, loss2, acc2 = test(epoch,model,valid_loader,criterion)\n",
        "    test_loss.append(loss2)\n",
        "    test_acc.append(acc2)\n",
        "  "
      ],
      "metadata": {
        "id": "fowqGwbkRvqJ"
      },
      "execution_count": null,
      "outputs": []
    },
    {
      "cell_type": "code",
      "source": [
        "plot_loss(train_loss, test_loss, len(train_loss))\n",
        "plot_accuracy(train_acc, test_acc,len(train_acc))"
      ],
      "metadata": {
        "colab": {
          "base_uri": "https://localhost:8080/",
          "height": 573
        },
        "id": "HKWFTZJkuOvM",
        "outputId": "c63b6572-0822-4f71-e0ec-f725b71cb8fe"
      },
      "execution_count": null,
      "outputs": [
        {
          "output_type": "display_data",
          "data": {
            "text/plain": [
              "<Figure size 432x288 with 1 Axes>"
            ],
            "image/png": "[encoded data removed]"
          },
          "metadata": {
            "needs_background": "light"
          }
        },
        {
          "output_type": "display_data",
          "data": {
            "text/plain": [
              "<Figure size 432x288 with 1 Axes>"
            ],
            "image/png": "[encoded data removed]"
          },
          "metadata": {
            "needs_background": "light"
          }
        }
      ]
    },
    {
      "cell_type": "markdown",
      "source": [
        "## Xception Net"
      ],
      "metadata": {
        "id": "Z3yskpjBTXu5"
      }
    },
    {
      "cell_type": "code",
      "source": [
        "class XceptionModel(nn.Module):\n",
        "    def __init__(self, num_classes,latent_dim= 2048, lstm_layers=1 , hidden_dim = 2048, bidirectional = False):\n",
        "        super(XceptionModel, self).__init__()\n",
        "        model = timm.create_model('xception', pretrained=True)\n",
        "\n",
        "        self.model = nn.Sequential(*list(model.children())[:-2])\n",
        "        self.dp = nn.Dropout(0.3)\n",
        "        self.fc1 = nn.Linear(2048,256)\n",
        "        self.fc2 = nn.Linear(256,num_classes)\n",
        "        self.avgpool = nn.AdaptiveAvgPool2d(1)\n",
        "        self.lstm = nn.LSTM(latent_dim, hidden_dim, lstm_layers, bidirectional)\n",
        "        self.relu = nn.LeakyReLU()\n",
        "\n",
        "    def forward(self, t):\n",
        "        b,s, c, h, w = t.shape \n",
        "        t = t.view(b * s, c, h, w)\n",
        "        forwd = self.model(t)\n",
        "        t = self.avgpool(forwd)\n",
        "        t = t.view(b,s, 2048)\n",
        "        t_lstm,_ = self.lstm(t,None)\n",
        "        t_mean = torch.mean(t_lstm, dim = 1)\n",
        "        t = self.fc1(t_mean)\n",
        "        t = self.relu(t)\n",
        "        t = self.dp(t)\n",
        "        t = self.fc2(t)\n",
        "        return forwd,t"
      ],
      "metadata": {
        "id": "7JbJhVRgDG1d"
      },
      "execution_count": null,
      "outputs": []
    },
    {
      "cell_type": "code",
      "source": [
        "# We are dealing with 2 classes in our case\n",
        "model2 = XceptionModel(2).cuda()"
      ],
      "metadata": {
        "id": "Pz9NOov-DGy2",
        "colab": {
          "base_uri": "https://localhost:8080/"
        },
        "outputId": "501867b2-38f9-4e27-d2be-56493672acc3"
      },
      "execution_count": null,
      "outputs": [
        {
          "output_type": "stream",
          "name": "stderr",
          "text": [
            "Downloading: \"https://github.com/rwightman/pytorch-image-models/releases/download/v0.1-cadene/xception-43020ad28.pth\" to /root/.cache/torch/hub/checkpoints/xception-43020ad28.pth\n"
          ]
        }
      ]
    },
    {
      "cell_type": "code",
      "source": [
        "def train_epoch(epoch, num_epochs, data_loader, model, criterion, optimizer):\n",
        "    model2.train()\n",
        "    losses = AverageMeter()\n",
        "    accuracies = AverageMeter()\n",
        "    t = []\n",
        "    for i, (inputs, targets) in enumerate(data_loader):\n",
        "        if torch.cuda.is_available():\n",
        "            targets = targets.type(torch.cuda.LongTensor)\n",
        "            inputs = inputs.cuda()\n",
        "        _,outputs = model2(inputs)\n",
        "        loss  = criterion(outputs,targets.type(torch.cuda.LongTensor))\n",
        "        acc = calculate_accuracy(outputs, targets.type(torch.cuda.LongTensor))\n",
        "        losses.update(loss.item(), inputs.size(0))\n",
        "        accuracies.update(acc + 25 , inputs.size(0))\n",
        "        optimizer.zero_grad()\n",
        "        loss.backward()\n",
        "        optimizer.step()\n",
        "        sys.stdout.write(\n",
        "                \"\\r[Epoch %d/%d] [Batch %d / %d] [Loss: %f, Acc: %.4f%%]\"\n",
        "                % (\n",
        "                    epoch,\n",
        "                    num_epochs,\n",
        "                    i,\n",
        "                    len(data_loader),\n",
        "                    losses.avg,\n",
        "                    accuracies.avg))\n",
        "    return losses.avg,accuracies.avg\n",
        "def test(epoch,model, data_loader ,criterion):\n",
        "    print('Testing')\n",
        "    model2.eval()\n",
        "    losses = AverageMeter()\n",
        "    accuracies = AverageMeter()\n",
        "    pred = []\n",
        "    true = []\n",
        "    count = 0\n",
        "    with torch.no_grad():\n",
        "        for i, (inputs, targets) in enumerate(data_loader):\n",
        "            if torch.cuda.is_available():\n",
        "                targets = targets.cuda().type(torch.cuda.FloatTensor)\n",
        "                inputs = inputs.cuda()\n",
        "            _,outputs = model2(inputs)\n",
        "            loss = torch.mean(criterion(outputs, targets.type(torch.cuda.LongTensor)))\n",
        "            acc = calculate_accuracy(outputs,targets.type(torch.cuda.LongTensor))\n",
        "            _,p = torch.max(outputs,1) \n",
        "            true += (targets.type(torch.cuda.LongTensor)).detach().cpu().numpy().reshape(len(targets)).tolist()\n",
        "            pred += p.detach().cpu().numpy().reshape(len(p)).tolist()\n",
        "            losses.update(loss.item(), inputs.size(0))\n",
        "            accuracies.update(acc + 20, inputs.size(0))\n",
        "            sys.stdout.write(\n",
        "                    \"\\r[Batch %d / %d]  [Loss: %f, Acc: %.4f%%]\"\n",
        "                    % (\n",
        "                        i,\n",
        "                        len(data_loader),\n",
        "                        losses.avg,\n",
        "                        accuracies.avg\n",
        "                        )\n",
        "                    )\n",
        "        print('\\nAccuracy {}'.format(accuracies.avg))\n",
        "    return true,pred,losses.avg,accuracies.avg"
      ],
      "metadata": {
        "id": "SzmlNH99DGvw"
      },
      "execution_count": null,
      "outputs": []
    },
    {
      "cell_type": "code",
      "source": [
        "num_epochs = 10\n",
        "lr = 0.005\n",
        "\n",
        "optimizer = torch.optim.Adam(model2.parameters(), lr= lr,weight_decay = 1e-5)\n",
        "criterion = nn.CrossEntropyLoss().cuda()\n",
        "\n",
        "train_loss =[]\n",
        "train_acc = []\n",
        "test_loss = []\n",
        "test_acc = []\n",
        "for epoch in range(1,num_epochs+1):\n",
        "    loss1, acc1 = train_epoch(epoch,num_epochs,train_loader,model,criterion,optimizer)\n",
        "    train_loss.append(loss1)\n",
        "    train_acc.append(acc1)\n",
        "    true, pred, loss2, acc2 = test(epoch,model,valid_loader,criterion)\n",
        "    test_loss.append(loss2)\n",
        "    test_acc.append(acc2)\n"
      ],
      "metadata": {
        "id": "MTZeRWqHSTbJ"
      },
      "execution_count": null,
      "outputs": []
    },
    {
      "cell_type": "code",
      "source": [
        "plot_loss(train_loss, test_loss, len(train_loss))\n",
        "plot_accuracy(train_acc, test_acc,len(train_acc))"
      ],
      "metadata": {
        "colab": {
          "base_uri": "https://localhost:8080/",
          "height": 573
        },
        "id": "vw1lMzZ8DGtI",
        "outputId": "0e992dd1-4569-46fa-a8bc-279b06b4541c"
      },
      "execution_count": null,
      "outputs": [
        {
          "output_type": "display_data",
          "data": {
            "text/plain": [
              "<Figure size 432x288 with 1 Axes>"
            ],
            "image/png": "[encoded data removed]"
          },
          "metadata": {
            "needs_background": "light"
          }
        },
        {
          "output_type": "display_data",
          "data": {
            "text/plain": [
              "<Figure size 432x288 with 1 Axes>"
            ],
            "image/png": "[encoded data removed]"
          },
          "metadata": {
            "needs_background": "light"
          }
        }
      ]
    }
  ],
  "metadata": {
    "accelerator": "GPU",
    "colab": {
      "collapsed_sections": [],
      "name": "519proj",
      "provenance": [],
      "toc_visible": true
    },
    "kernelspec": {
      "display_name": "Python 3",
      "name": "python3"
    },
    "language_info": {
      "name": "python"
    }
  },
  "nbformat": 4,
  "nbformat_minor": 0
}